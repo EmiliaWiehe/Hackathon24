{
 "cells": [
  {
   "cell_type": "code",
   "execution_count": 10,
   "metadata": {},
   "outputs": [
    {
     "name": "stdout",
     "output_type": "stream",
     "text": [
      "Binary mask saved to data/Output_Images/part_1_binary.png\n"
     ]
    }
   ],
   "source": [
    "from PIL import Image\n",
    "import os\n",
    "\n",
    "# Function to generate a binary mask of an image\n",
    "def generate_binary_mask(image_path, output_path, threshold=128):\n",
    "    # Load the image\n",
    "    image = Image.open(image_path).convert(\"L\")  # Convert to grayscale\n",
    "    \n",
    "    # Apply threshold to convert to binary image\n",
    "    binary_image = image.point(lambda p: p > threshold and 255)\n",
    "    \n",
    "    # Save the binary image\n",
    "    binary_image.save(output_path)\n",
    "    print(f\"Binary mask saved to {output_path}\")\n",
    "\n",
    "# Paths to your images\n",
    "input_image = \"data/dummy/part_1/part_1.png\"\n",
    "output_image = \"data/Output_Images/part_1_binary.png\"\n",
    "\n",
    "# Generate binary mask\n",
    "generate_binary_mask(input_image, output_image)"
   ]
  },
  {
   "cell_type": "code",
   "execution_count": 11,
   "metadata": {},
   "outputs": [
    {
     "name": "stdout",
     "output_type": "stream",
     "text": [
      "Binary mask saved to data/Output_Images/part_1_binary.png\n"
     ]
    }
   ],
   "source": [
    "import cv2\n",
    "from PIL import Image\n",
    "import numpy as np\n",
    "\n",
    "# Function to generate a binary mask of an image using edge detection\n",
    "def generate_binary_mask(image_path, output_path, threshold1=80, threshold2=200):\n",
    "    # Load the image\n",
    "    image = cv2.imread(image_path, cv2.IMREAD_GRAYSCALE)\n",
    "    \n",
    "    # Apply Canny edge detection\n",
    "    edges = cv2.Canny(image, threshold1, threshold2)\n",
    "    \n",
    "    # Convert edges to binary image (0 or 255)\n",
    "    binary_image = cv2.threshold(edges, 127, 255, cv2.THRESH_BINARY)[1]\n",
    "    \n",
    "    # Save the binary image\n",
    "    cv2.imwrite(output_path, binary_image)\n",
    "    print(f\"Binary mask saved to {output_path}\")\n",
    "\n",
    "# Paths to your images\n",
    "input_image = \"data/dummy/part_1/part_1.png\"\n",
    "output_image = \"data/Output_Images/part_1_binary.png\"\n",
    "\n",
    "# Generate binary mask\n",
    "generate_binary_mask(input_image, output_image)"
   ]
  }
 ],
 "metadata": {
  "kernelspec": {
   "display_name": "pytorch",
   "language": "python",
   "name": "python3"
  },
  "language_info": {
   "codemirror_mode": {
    "name": "ipython",
    "version": 3
   },
   "file_extension": ".py",
   "mimetype": "text/x-python",
   "name": "python",
   "nbconvert_exporter": "python",
   "pygments_lexer": "ipython3",
   "version": "3.9.15"
  }
 },
 "nbformat": 4,
 "nbformat_minor": 2
}
