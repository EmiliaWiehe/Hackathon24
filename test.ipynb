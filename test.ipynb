{
 "cells": [
  {
   "cell_type": "code",
   "execution_count": 14,
   "metadata": {},
   "outputs": [
    {
     "name": "stdout",
     "output_type": "stream",
     "text": [
      "Image saved to data/train_images/Train/result.png\n",
      "Shift X: 83, Shift Y: 280, Rotation: 58\n"
     ]
    }
   ],
   "source": [
    "from PIL import Image\n",
    "import os\n",
    "import random\n",
    "\n",
    "# Function to overlay images with specified transformations\n",
    "def overlay_images_with_transformations(part_path, gripper_path, output_path):\n",
    "    part = Image.open(part_path).convert(\"RGBA\")\n",
    "    gripper = Image.open(gripper_path).convert(\"RGBA\")\n",
    "    \n",
    "    # Place the gripper in the top left corner\n",
    "    shift_x = 0\n",
    "    shift_y = 0\n",
    "    \n",
    "    # Generate a random shift to the right\n",
    "    max_shift_x = (part.width - gripper.width) \n",
    "    shift_x = random.randint(0, max_shift_x)\n",
    "    \n",
    "    # Generate a random shift to the bottom\n",
    "    max_shift_y = (part.height - gripper.height) \n",
    "    shift_y = random.randint(0, max_shift_y)\n",
    "    \n",
    "    # Create a new image with the same size as part and paste the gripper at the shifted position\n",
    "    new_gripper = Image.new(\"RGBA\", part.size)\n",
    "    new_gripper.paste(gripper, (shift_x, shift_y), gripper)\n",
    "    \n",
    "    # Apply a random rotation\n",
    "    rotation_value = random.randint(0, 360)\n",
    "    new_gripper = new_gripper.rotate(rotation_value, expand=True)\n",
    "    \n",
    "    # Create a new image with the same size as part and paste the rotated gripper at the shifted position\n",
    "    final_gripper = Image.new(\"RGBA\", part.size)\n",
    "    final_gripper.paste(new_gripper, (0, 0), new_gripper)\n",
    "    \n",
    "    # Overlay images\n",
    "    combined = Image.alpha_composite(part, final_gripper)\n",
    "    combined.save(output_path)\n",
    "    \n",
    "    # Print the transformations\n",
    "    print(f\"Image saved to {output_path}\")\n",
    "    print(f\"Shift X: {shift_x}, Shift Y: {shift_y}, Rotation: {rotation_value}\")\n",
    "\n",
    "# Example usage\n",
    "part_file = \"data/dummy/part_1/part_1.png\"\n",
    "gripper_file = \"data/train_images/Grippers/Gripper_1.png\"\n",
    "output_file = \"data/train_images/Train/result.png\"\n",
    "\n",
    "overlay_images_with_transformations(part_file, gripper_file, output_file)"
   ]
  },
  {
   "cell_type": "code",
   "execution_count": 23,
   "metadata": {},
   "outputs": [
    {
     "name": "stdout",
     "output_type": "stream",
     "text": [
      "Image saved to data/train_images/Train/result.png\n",
      "Shift X: 7, Shift Y: 7, Rotation: 29\n"
     ]
    }
   ],
   "source": [
    "from PIL import Image\n",
    "import os\n",
    "import random\n",
    "\n",
    "# Function to overlay images with specified transformations\n",
    "def overlay_images_with_transformations(part_path, gripper_path, output_path):\n",
    "    part = Image.open(part_path).convert(\"RGBA\")\n",
    "    gripper = Image.open(gripper_path).convert(\"RGBA\")\n",
    "    gripper.save(\"data/train_images/Train/original_gripper.png\")\n",
    "    \n",
    "    # Place the gripper in the top left corner\n",
    "    shift_x = 0\n",
    "    shift_y = 0\n",
    "    \n",
    "    # Generate a random shift to the right\n",
    "    max_shift_x = 20\n",
    "    shift_x = random.randint(0, max_shift_x)\n",
    "    \n",
    "    # Generate a random shift to the bottom\n",
    "    max_shift_y = 10\n",
    "    shift_y = random.randint(0, max_shift_y)\n",
    "\n",
    "    # Create a new image with the same size as part and paste the gripper at the shifted position\n",
    "    new_gripper = Image.new(\"RGBA\", part.size)\n",
    "    new_gripper.paste(part, (shift_x, shift_y))\n",
    "    new_gripper.paste(gripper, (shift_x, shift_y), gripper)\n",
    "    \n",
    "    # Apply a random rotation\n",
    "    rotation_value = random.randint(0, 360)\n",
    "    rotated_gripper = new_gripper.rotate(rotation_value, expand=True)\n",
    "    \n",
    "    # Create a new image with the same size as part and paste the rotated gripper at the shifted position\n",
    "    final_gripper = Image.new(\"RGBA\", part.size)\n",
    "    final_gripper.paste(rotated_gripper, (0, 0), rotated_gripper)\n",
    "    \n",
    "    # Overlay images\n",
    "    combined = Image.alpha_composite(part, final_gripper)\n",
    "    combined.save(output_path)\n",
    "    \n",
    "    # Print the transformations\n",
    "    print(f\"Image saved to {output_path}\")\n",
    "    print(f\"Shift X: {shift_x}, Shift Y: {shift_y}, Rotation: {rotation_value}\")\n",
    "\n",
    "    # Save intermediate images for debugging\n",
    "    new_gripper.save(\"data/train_images/Train/intermediate_gripper.png\")\n",
    "    rotated_gripper.save(\"data/train_images/Train/intermediate_rotated_gripper.png\")\n",
    "    final_gripper.save(\"data/train_images/Train/intermediate_final_gripper.png\")\n",
    "\n",
    "# Example usage\n",
    "part_file = \"data/dummy/part_1/part_1.png\"\n",
    "gripper_file = \"data/train_images/Grippers/Gripper_1.png\"\n",
    "output_file = \"data/train_images/Train/result.png\"\n",
    "\n",
    "overlay_images_with_transformations(part_file, gripper_file, output_file)"
   ]
  },
  {
   "cell_type": "code",
   "execution_count": 29,
   "metadata": {},
   "outputs": [
    {
     "name": "stdout",
     "output_type": "stream",
     "text": [
      "Image saved to data/train_images/Train/result.png\n"
     ]
    }
   ],
   "source": [
    "from PIL import Image\n",
    "import os\n",
    "\n",
    "# Function to paste the gripper onto the part image\n",
    "def paste_gripper_onto_part(part_path, gripper_path, output_path, position=(0, 0)):\n",
    "    part = Image.open(part_path).convert(\"RGBA\")\n",
    "    gripper = Image.open(gripper_path).convert(\"RGBA\")\n",
    "    \n",
    "    # Create a new image with the same size as part and paste the gripper at the specified position\n",
    "    new_image = Image.new(\"RGBA\", part.size)\n",
    "    new_image.paste(gripper, (10, -100))\n",
    "    new_image.paste(gripper, position, gripper)\n",
    "    \n",
    "    # Save the combined image\n",
    "    new_image.save(output_path)\n",
    "    print(f\"Image saved to {output_path}\")\n",
    "\n",
    "# Example usage\n",
    "part_file = \"data/dummy/part_1/part_1.png\"\n",
    "gripper_file = \"data/train_images/Grippers/Gripper_1.png\"\n",
    "output_file = \"data/train_images/Train/result.png\"\n",
    "\n",
    "# Paste the gripper onto the part image at the top left corner (0, 0)\n",
    "paste_gripper_onto_part(part_file, gripper_file, output_file, position=(0, 0))"
   ]
  }
 ],
 "metadata": {
  "kernelspec": {
   "display_name": "pytorch",
   "language": "python",
   "name": "python3"
  },
  "language_info": {
   "codemirror_mode": {
    "name": "ipython",
    "version": 3
   },
   "file_extension": ".py",
   "mimetype": "text/x-python",
   "name": "python",
   "nbconvert_exporter": "python",
   "pygments_lexer": "ipython3",
   "version": "3.9.15"
  }
 },
 "nbformat": 4,
 "nbformat_minor": 2
}
