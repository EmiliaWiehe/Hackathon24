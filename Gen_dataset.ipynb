{
 "cells": [
  {
   "cell_type": "code",
   "execution_count": 2,
   "metadata": {},
   "outputs": [
    {
     "name": "stderr",
     "output_type": "stream",
     "text": [
      "/tmp/ipykernel_56709/2458004634.py:33: DeprecationWarning: AFFINE is deprecated and will be removed in Pillow 10 (2023-07-01). Use Transform.AFFINE instead.\n",
      "  image2 = image2.transform(image1.size, Image.AFFINE, (1, 0, shift_x, 0, 1, shift_y))\n"
     ]
    }
   ],
   "source": [
    "from PIL import Image\n",
    "import cairosvg\n",
    "import os\n",
    "import random\n",
    "\n",
    "# Function to convert svg to png\n",
    "def convert_svg_to_png(svg_path, png_path):\n",
    "    cairosvg.svg2png(url=svg_path, write_to=png_path)\n",
    "\n",
    "# Function to overlay images with transformations\n",
    "def overlay_images_with_transformations(png_path1, png_path2, output_path, transformations):\n",
    "    image1 = Image.open(png_path1).convert(\"RGBA\")\n",
    "    image2 = Image.open(png_path2).convert(\"RGBA\")\n",
    "    \n",
    "    # Apply transformations\n",
    "    for transform in transformations:\n",
    "        if transform['type'] == 'rotate':\n",
    "            image2 = image2.rotate(transform['value'], expand=True)\n",
    "    \n",
    "    # Ensure both images are the same size\n",
    "    image2 = image2.resize(image1.size)\n",
    "    \n",
    "    # Calculate the bounding box of the rotated gripper\n",
    "    bbox = image2.getbbox()\n",
    "    max_shift_x = image1.width - (bbox[2] - bbox[0])\n",
    "    max_shift_y = image1.height - (bbox[3] - bbox[1])\n",
    "    \n",
    "    # Apply shift transformation\n",
    "    for transform in transformations:\n",
    "        if transform['type'] == 'shift':\n",
    "            shift_x = min(max(transform['x'], 0), max_shift_x)\n",
    "            shift_y = min(max(transform['y'], 0), max_shift_y)\n",
    "            image2 = image2.transform(image1.size, Image.AFFINE, (1, 0, shift_x, 0, 1, shift_y))\n",
    "    \n",
    "    # Overlay images\n",
    "    combined = Image.alpha_composite(image1, image2)\n",
    "    combined.save(output_path)\n",
    "\n",
    "# Paths to your images\n",
    "svg_file = \"data/dummy/part_1/gripper_2.svg\"\n",
    "png_file = \"data/dummy/part_1/part_1.png\"\n",
    "converted_png_file = \"data/Converted_Images/converted_file.png\"\n",
    "output_folder = \"data/Output_Images/\"\n",
    "\n",
    "# Create output folder if it doesn't exist\n",
    "os.makedirs(output_folder, exist_ok=True)\n",
    "\n",
    "# Convert svg to png\n",
    "convert_svg_to_png(svg_file, converted_png_file)\n",
    "\n",
    "# Generate transformations and save images\n",
    "num_images = 10  # Number of images to generate\n",
    "for i in range(1, num_images + 1):\n",
    "    # Ensure the gripper stays within the bounds of the metal sheet\n",
    "    transformations_list = [\n",
    "        {'type': 'rotate', 'value': random.randint(0, 360)},\n",
    "        {'type': 'shift', 'x': random.randint(-50, 50), 'y': random.randint(-50, 50)}\n",
    "    ]\n",
    "    \n",
    "    output_file = os.path.join(output_folder, f\"result_{i}.png\")\n",
    "    overlay_images_with_transformations(png_file, converted_png_file, output_file, transformations_list)"
   ]
  }
 ],
 "metadata": {
  "kernelspec": {
   "display_name": "pytorch",
   "language": "python",
   "name": "python3"
  },
  "language_info": {
   "codemirror_mode": {
    "name": "ipython",
    "version": 3
   },
   "file_extension": ".py",
   "mimetype": "text/x-python",
   "name": "python",
   "nbconvert_exporter": "python",
   "pygments_lexer": "ipython3",
   "version": "3.9.15"
  }
 },
 "nbformat": 4,
 "nbformat_minor": 2
}
