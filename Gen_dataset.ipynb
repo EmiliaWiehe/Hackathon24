{
 "cells": [
  {
   "cell_type": "code",
   "execution_count": null,
   "metadata": {},
   "outputs": [],
   "source": [
    "from PIL import Image\n",
    "import os\n",
    "import random\n",
    "\n",
    "# Function to overlay images with transformations\n",
    "def overlay_images_with_transformations(part_path, gripper_path, output_path):\n",
    "    \n",
    "    # Transformations to apply\n",
    "    transformations = [\n",
    "        {'type': 'rotate', 'value': random.randint(0, 360)},\n",
    "        {'type': 'shift', 'x': random.randint(-50, 50), 'y': random.randint(-50, 50)}\n",
    "    ]\n",
    "\n",
    "    # Load images\n",
    "    part = Image.open(part_path).convert(\"RGBA\")\n",
    "    gripper = Image.open(gripper_path).convert(\"RGBA\")\n",
    "\n",
    "    # Note: We don't resize the images now, but during training we will resize the images to a fixed size\n",
    "    \n",
    "    # Apply rotation transformation\n",
    "    for transform in transformations:\n",
    "        if transform['type'] == 'rotate':\n",
    "            gripper = gripper.rotate(transform['value'], expand=True)\n",
    "    \n",
    "    # Calculate the center position for the gripper\n",
    "    # center_x = (part.width - gripper.width) // 100\n",
    "    # center_y = (part.height - gripper.height) // 100\n",
    "    center_x = 0\n",
    "    center_y = -98\n",
    "    # print(\"Center x: \", center_x, \"Center y: \", center_y)\n",
    "    \n",
    "    # Calculate the maximum allowable shift\n",
    "    max_shift_x = (part.width - gripper.width) // 2\n",
    "    max_shift_y = (part.height - gripper.height) // 2\n",
    "    # print(\"Max shift x: \", max_shift_x, \"Max shift y: \", max_shift_y)\n",
    "    \n",
    "    # Apply shift transformation\n",
    "    for transform in transformations:\n",
    "        if transform['type'] == 'shift':\n",
    "            shift_x = center_x + min(max(transform['x'], -max_shift_x), max_shift_x) \n",
    "            shift_y = center_y + min(max(transform['y'], -max_shift_y), max_shift_y) \n",
    "            gripper = gripper.transform(part.size, Image.AFFINE, (1, 0, shift_x, 0, 1, shift_y))\n",
    "            print(\"Shift x: \", shift_x, \"Shift y: \", shift_y)\n",
    "    \n",
    "    # Overlay images\n",
    "    combined = Image.alpha_composite(part, gripper)\n",
    "    combined.save(output_path)"
   ]
  },
  {
   "cell_type": "code",
   "execution_count": null,
   "metadata": {},
   "outputs": [],
   "source": [
    "# Paths to your images\n",
    "gripper_file = \"data/train_images/Grippers/Gripper_1.png\"\n",
    "part_folder = \"data/train_images/Metal_sheets/\"\n",
    "output_folder = \"data/train_images/Train/\"\n",
    "\n",
    "# Create output folder if it doesn't exist\n",
    "os.makedirs(output_folder, exist_ok=True)"
   ]
  },
  {
   "cell_type": "code",
   "execution_count": null,
   "metadata": {},
   "outputs": [],
   "source": [
    "import os\n",
    "\n",
    "# Function to parse through a directory and apply a specified function to each .png file\n",
    "def parse_directory_and_apply_function(root_directory):\n",
    "    for subdir, _, files in os.walk(root_directory):\n",
    "        for file in files:\n",
    "            if file.endswith(\".png\"):\n",
    "                # combine folder name and part name\n",
    "                part = part_folder + file\n",
    "                output_file = output_folder + file\n",
    "\n",
    "\n",
    "                overlay_images_with_transformations(part, gripper_file, output_file)\n",
    "\n",
    "parse_directory_and_apply_function(part_folder)"
   ]
  }
 ],
 "metadata": {
  "kernelspec": {
   "display_name": "pytorch",
   "language": "python",
   "name": "python3"
  },
  "language_info": {
   "codemirror_mode": {
    "name": "ipython",
    "version": 3
   },
   "file_extension": ".py",
   "mimetype": "text/x-python",
   "name": "python",
   "nbconvert_exporter": "python",
   "pygments_lexer": "ipython3",
   "version": "3.9.15"
  }
 },
 "nbformat": 4,
 "nbformat_minor": 2
}
