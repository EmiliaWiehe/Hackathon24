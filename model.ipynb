{
 "cells": [
  {
   "cell_type": "code",
   "execution_count": 1,
   "metadata": {},
   "outputs": [
    {
     "name": "stderr",
     "output_type": "stream",
     "text": [
      "/home/johann/anaconda3/envs/pytorch/lib/python3.9/site-packages/tqdm/auto.py:22: TqdmWarning: IProgress not found. Please update jupyter and ipywidgets. See https://ipywidgets.readthedocs.io/en/stable/user_install.html\n",
      "  from .autonotebook import tqdm as notebook_tqdm\n"
     ]
    }
   ],
   "source": [
    "import os\n",
    "import random\n",
    "from PIL import Image\n",
    "import torch\n",
    "from torch.utils.data import Dataset, DataLoader\n",
    "import torchvision.transforms as transforms\n",
    "\n",
    "class GripperMetalSheetDataset(Dataset):\n",
    "    def __init__(self, gripper_dir, metal_sheet_dir, transform=None):\n",
    "        self.gripper_dir = gripper_dir\n",
    "        self.metal_sheet_dir = metal_sheet_dir\n",
    "        self.transform = transform\n",
    "        self.gripper_files = [f for f in os.listdir(gripper_dir) if f.endswith('.png')]\n",
    "        self.metal_sheet_files = [f for f in os.listdir(metal_sheet_dir) if f.endswith('.png')]\n",
    "\n",
    "    def __len__(self):\n",
    "        return len(self.gripper_files)\n",
    "\n",
    "    def __getitem__(self, idx):\n",
    "        gripper_path = os.path.join(self.gripper_dir, self.gripper_files[idx])\n",
    "        metal_sheet_path = os.path.join(self.metal_sheet_dir, self.metal_sheet_files[idx])\n",
    "        \n",
    "        gripper_image = Image.open(gripper_path).convert(\"RGB\")\n",
    "        metal_sheet_image = Image.open(metal_sheet_path).convert(\"RGB\")\n",
    "        \n",
    "        # Generate random transformations for training\n",
    "        shift_x = random.randint(0, 50)\n",
    "        shift_y = random.randint(0, 50)\n",
    "        rotation = random.randint(0, 360)\n",
    "        \n",
    "        if self.transform:\n",
    "            gripper_image = self.transform(gripper_image)\n",
    "            metal_sheet_image = self.transform(metal_sheet_image)\n",
    "        \n",
    "        label = torch.tensor([shift_x, shift_y, rotation], dtype=torch.float32)\n",
    "        \n",
    "        return gripper_image, metal_sheet_image, label\n",
    "\n",
    "transform = transforms.Compose([\n",
    "    transforms.Resize((128, 128)),\n",
    "    transforms.ToTensor()\n",
    "])\n",
    "\n",
    "dataset = GripperMetalSheetDataset('data/train_images/Grippers', 'data/train_images/Metal_sheets', transform)\n",
    "dataloader = DataLoader(dataset, batch_size=32, shuffle=True)"
   ]
  },
  {
   "cell_type": "code",
   "execution_count": 2,
   "metadata": {},
   "outputs": [],
   "source": [
    "import torch.nn as nn\n",
    "import torch.nn.functional as F\n",
    "\n",
    "class GripperMetalSheetModel(nn.Module):\n",
    "    def __init__(self):\n",
    "        super(GripperMetalSheetModel, self).__init__()\n",
    "        self.gripper_conv = nn.Sequential(\n",
    "            nn.Conv2d(3, 32, kernel_size=3, stride=1, padding=1),\n",
    "            nn.ReLU(),\n",
    "            nn.MaxPool2d(kernel_size=2, stride=2)\n",
    "        )\n",
    "        self.metal_sheet_conv = nn.Sequential(\n",
    "            nn.Conv2d(3, 32, kernel_size=3, stride=1, padding=1),\n",
    "            nn.ReLU(),\n",
    "            nn.MaxPool2d(kernel_size=2, stride=2)\n",
    "        )\n",
    "        self.fc = nn.Sequential(\n",
    "            nn.Linear(32 * 64 * 64 * 2, 512),\n",
    "            nn.ReLU(),\n",
    "            nn.Linear(512, 3)  # Output: shift_x, shift_y, rotation\n",
    "        )\n",
    "\n",
    "    def forward(self, gripper_image, metal_sheet_image):\n",
    "        gripper_features = self.gripper_conv(gripper_image)\n",
    "        metal_sheet_features = self.metal_sheet_conv(metal_sheet_image)\n",
    "        \n",
    "        gripper_features = gripper_features.view(gripper_features.size(0), -1)\n",
    "        metal_sheet_features = metal_sheet_features.view(metal_sheet_features.size(0), -1)\n",
    "        \n",
    "        combined_features = torch.cat((gripper_features, metal_sheet_features), dim=1)\n",
    "        output = self.fc(combined_features)\n",
    "        \n",
    "        return output\n",
    "\n",
    "model = GripperMetalSheetModel()"
   ]
  },
  {
   "cell_type": "code",
   "execution_count": 8,
   "metadata": {},
   "outputs": [
    {
     "name": "stdout",
     "output_type": "stream",
     "text": [
      "Epoch [1/10], Loss: 17687.3711\n",
      "Epoch [2/10], Loss: 6133.6260\n",
      "Epoch [3/10], Loss: 3372.4402\n",
      "Epoch [4/10], Loss: 4456.1021\n",
      "Epoch [5/10], Loss: 3710.9297\n",
      "Epoch [6/10], Loss: 1862.4824\n",
      "Epoch [7/10], Loss: 5660.7207\n",
      "Epoch [8/10], Loss: 4746.9907\n",
      "Epoch [9/10], Loss: 2905.3569\n",
      "Epoch [10/10], Loss: 6602.7212\n",
      "Training complete.\n"
     ]
    }
   ],
   "source": [
    "import torch.optim as optim\n",
    "\n",
    "# Define loss function and optimizer\n",
    "criterion = nn.MSELoss()\n",
    "optimizer = optim.Adam(model.parameters(), lr=0.001)\n",
    "\n",
    "# Training loop\n",
    "num_epochs = 10\n",
    "for epoch in range(num_epochs):\n",
    "    model.train()\n",
    "    running_loss = 0.0\n",
    "    for gripper_image, metal_sheet_image, labels in dataloader:\n",
    "        optimizer.zero_grad()\n",
    "        outputs = model(gripper_image, metal_sheet_image)\n",
    "        loss = criterion(outputs, labels)\n",
    "        loss.backward()\n",
    "        optimizer.step()\n",
    "        running_loss += loss.item()\n",
    "    \n",
    "    print(f\"Epoch [{epoch+1}/{num_epochs}], Loss: {running_loss/len(dataloader):.4f}\")\n",
    "\n",
    "print(\"Training complete.\")"
   ]
  }
 ],
 "metadata": {
  "kernelspec": {
   "display_name": "pytorch",
   "language": "python",
   "name": "python3"
  },
  "language_info": {
   "codemirror_mode": {
    "name": "ipython",
    "version": 3
   },
   "file_extension": ".py",
   "mimetype": "text/x-python",
   "name": "python",
   "nbconvert_exporter": "python",
   "pygments_lexer": "ipython3",
   "version": "3.9.15"
  }
 },
 "nbformat": 4,
 "nbformat_minor": 2
}
